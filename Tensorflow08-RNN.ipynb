{
 "cells": [
  {
   "cell_type": "markdown",
   "metadata": {},
   "source": [
    "## 循环神经网络RNN\n",
    "\n",
    "RNN的R为Recurrent。RNN用来处理上下文相关的内容，比如一串文字，前一个字符和后一个存在着联系。\n",
    "\n",
    "神经网络中，之前的网络只是用来处理单批次输入的，输入的第一个元素和之后的元素没有关联。但是如果我们在同一层间进行连接，一层的输出留下来给这一层的输入用，就可以把第一次的输入产生的影响留到第二次输入运行时。\n",
    "\n"
   ]
  }
 ],
 "metadata": {
  "kernelspec": {
   "display_name": "Python 3",
   "language": "python",
   "name": "python3"
  },
  "language_info": {
   "codemirror_mode": {
    "name": "ipython",
    "version": 3
   },
   "file_extension": ".py",
   "mimetype": "text/x-python",
   "name": "python",
   "nbconvert_exporter": "python",
   "pygments_lexer": "ipython3",
   "version": "3.6.5"
  }
 },
 "nbformat": 4,
 "nbformat_minor": 2
}
